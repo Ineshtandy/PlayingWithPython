{
 "cells": [
  {
   "cell_type": "code",
   "execution_count": 4,
   "id": "2343d193",
   "metadata": {},
   "outputs": [],
   "source": [
    "import qrcode\n",
    "\n",
    "websiteLink = 'https://www.youtube.com/watch?v=dQw4w9WgXcQ'\n",
    "\n",
    "qr = qrcode.QRCode(version = 1, box_size = 5, border = 5)\n",
    "# version is int from 1 to 40 controlling the size of qr code\n",
    "# box size controls num of pixels in each box\n",
    "# border controls how many boxes thick the border should be\n",
    "\n",
    "qr.add_data(websiteLink)\n",
    "qr.make()\n",
    "\n",
    "img = qr.make_image(fill_color = 'black', back_color = 'white')\n",
    "\n",
    "img.save('myfirstqr.png')\n"
   ]
  },
  {
   "cell_type": "code",
   "execution_count": null,
   "id": "dcb59198",
   "metadata": {},
   "outputs": [],
   "source": []
  }
 ],
 "metadata": {
  "kernelspec": {
   "display_name": "Python 3 (ipykernel)",
   "language": "python",
   "name": "python3"
  },
  "language_info": {
   "codemirror_mode": {
    "name": "ipython",
    "version": 3
   },
   "file_extension": ".py",
   "mimetype": "text/x-python",
   "name": "python",
   "nbconvert_exporter": "python",
   "pygments_lexer": "ipython3",
   "version": "3.9.13"
  }
 },
 "nbformat": 4,
 "nbformat_minor": 5
}
